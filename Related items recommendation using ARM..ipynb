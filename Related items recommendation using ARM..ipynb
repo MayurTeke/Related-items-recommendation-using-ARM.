{
 "cells": [
  {
   "cell_type": "markdown",
   "id": "fa6c59d3",
   "metadata": {},
   "source": [
    "# Project : Related Data Recommendation using Assosiation Rule Mining"
   ]
  },
  {
   "cell_type": "markdown",
   "id": "aeafe08a",
   "metadata": {},
   "source": [
    "# Read set"
   ]
  },
  {
   "cell_type": "code",
   "execution_count": 1,
   "id": "16db588a",
   "metadata": {},
   "outputs": [],
   "source": [
    "A = [['Milk', 'Onion', 'Chhole', 'Rajma', 'Ghee', 'Dahi'],\n",
    "     ['Dill', 'Onion', 'Chhole', 'Rajma', 'Ghee', 'Dahi'],\n",
    "     ['Milk', 'Apple', 'Rajma', 'Ghee'],\n",
    "     ['Milk', 'Mutter', 'Corn', 'Rajma', 'Dahi'],\n",
    "     ['Corn', 'Onion', 'Onion', 'Rajma', 'Ice cream', 'Ghee']]"
   ]
  },
  {
   "cell_type": "markdown",
   "id": "d05eabfc",
   "metadata": {},
   "source": [
    "# Preview"
   ]
  },
  {
   "cell_type": "code",
   "execution_count": 2,
   "id": "3d95a698",
   "metadata": {},
   "outputs": [
    {
     "data": {
      "text/plain": [
       "[['Milk', 'Onion', 'Chhole', 'Rajma', 'Ghee', 'Dahi'],\n",
       " ['Dill', 'Onion', 'Chhole', 'Rajma', 'Ghee', 'Dahi'],\n",
       " ['Milk', 'Apple', 'Rajma', 'Ghee'],\n",
       " ['Milk', 'Mutter', 'Corn', 'Rajma', 'Dahi'],\n",
       " ['Corn', 'Onion', 'Onion', 'Rajma', 'Ice cream', 'Ghee']]"
      ]
     },
     "execution_count": 2,
     "metadata": {},
     "output_type": "execute_result"
    }
   ],
   "source": [
    "A"
   ]
  },
  {
   "cell_type": "markdown",
   "id": "03178d5a",
   "metadata": {},
   "source": [
    "# Convert data into TransactionEncoder"
   ]
  },
  {
   "cell_type": "code",
   "execution_count": 3,
   "id": "3d41c707",
   "metadata": {},
   "outputs": [],
   "source": [
    "from mlxtend.preprocessing import TransactionEncoder\n",
    "import pandas as mt\n",
    "te = TransactionEncoder()\n",
    "A = mt.DataFrame(te.fit_transform(A),columns=te.columns_)"
   ]
  },
  {
   "cell_type": "code",
   "execution_count": 5,
   "id": "3dbda9ee",
   "metadata": {},
   "outputs": [
    {
     "data": {
      "text/html": [
       "<div>\n",
       "<style scoped>\n",
       "    .dataframe tbody tr th:only-of-type {\n",
       "        vertical-align: middle;\n",
       "    }\n",
       "\n",
       "    .dataframe tbody tr th {\n",
       "        vertical-align: top;\n",
       "    }\n",
       "\n",
       "    .dataframe thead th {\n",
       "        text-align: right;\n",
       "    }\n",
       "</style>\n",
       "<table border=\"1\" class=\"dataframe\">\n",
       "  <thead>\n",
       "    <tr style=\"text-align: right;\">\n",
       "      <th></th>\n",
       "      <th>Apple</th>\n",
       "      <th>Chhole</th>\n",
       "      <th>Corn</th>\n",
       "      <th>Dahi</th>\n",
       "      <th>Dill</th>\n",
       "      <th>Ghee</th>\n",
       "      <th>Ice cream</th>\n",
       "      <th>Milk</th>\n",
       "      <th>Mutter</th>\n",
       "      <th>Onion</th>\n",
       "      <th>Rajma</th>\n",
       "    </tr>\n",
       "  </thead>\n",
       "  <tbody>\n",
       "    <tr>\n",
       "      <th>0</th>\n",
       "      <td>False</td>\n",
       "      <td>True</td>\n",
       "      <td>False</td>\n",
       "      <td>True</td>\n",
       "      <td>False</td>\n",
       "      <td>True</td>\n",
       "      <td>False</td>\n",
       "      <td>True</td>\n",
       "      <td>False</td>\n",
       "      <td>True</td>\n",
       "      <td>True</td>\n",
       "    </tr>\n",
       "    <tr>\n",
       "      <th>1</th>\n",
       "      <td>False</td>\n",
       "      <td>True</td>\n",
       "      <td>False</td>\n",
       "      <td>True</td>\n",
       "      <td>True</td>\n",
       "      <td>True</td>\n",
       "      <td>False</td>\n",
       "      <td>False</td>\n",
       "      <td>False</td>\n",
       "      <td>True</td>\n",
       "      <td>True</td>\n",
       "    </tr>\n",
       "    <tr>\n",
       "      <th>2</th>\n",
       "      <td>True</td>\n",
       "      <td>False</td>\n",
       "      <td>False</td>\n",
       "      <td>False</td>\n",
       "      <td>False</td>\n",
       "      <td>True</td>\n",
       "      <td>False</td>\n",
       "      <td>True</td>\n",
       "      <td>False</td>\n",
       "      <td>False</td>\n",
       "      <td>True</td>\n",
       "    </tr>\n",
       "    <tr>\n",
       "      <th>3</th>\n",
       "      <td>False</td>\n",
       "      <td>False</td>\n",
       "      <td>True</td>\n",
       "      <td>True</td>\n",
       "      <td>False</td>\n",
       "      <td>False</td>\n",
       "      <td>False</td>\n",
       "      <td>True</td>\n",
       "      <td>True</td>\n",
       "      <td>False</td>\n",
       "      <td>True</td>\n",
       "    </tr>\n",
       "    <tr>\n",
       "      <th>4</th>\n",
       "      <td>False</td>\n",
       "      <td>False</td>\n",
       "      <td>True</td>\n",
       "      <td>False</td>\n",
       "      <td>False</td>\n",
       "      <td>True</td>\n",
       "      <td>True</td>\n",
       "      <td>False</td>\n",
       "      <td>False</td>\n",
       "      <td>True</td>\n",
       "      <td>True</td>\n",
       "    </tr>\n",
       "  </tbody>\n",
       "</table>\n",
       "</div>"
      ],
      "text/plain": [
       "   Apple  Chhole   Corn   Dahi   Dill   Ghee  Ice cream   Milk  Mutter  Onion  \\\n",
       "0  False    True  False   True  False   True      False   True   False   True   \n",
       "1  False    True  False   True   True   True      False  False   False   True   \n",
       "2   True   False  False  False  False   True      False   True   False  False   \n",
       "3  False   False   True   True  False  False      False   True    True  False   \n",
       "4  False   False   True  False  False   True       True  False   False   True   \n",
       "\n",
       "   Rajma  \n",
       "0   True  \n",
       "1   True  \n",
       "2   True  \n",
       "3   True  \n",
       "4   True  "
      ]
     },
     "execution_count": 5,
     "metadata": {},
     "output_type": "execute_result"
    }
   ],
   "source": [
    "A"
   ]
  },
  {
   "cell_type": "markdown",
   "id": "62f28a3f",
   "metadata": {},
   "source": [
    "# Create a apriori"
   ]
  },
  {
   "cell_type": "code",
   "execution_count": 6,
   "id": "45c78751",
   "metadata": {},
   "outputs": [],
   "source": [
    "from mlxtend.frequent_patterns import apriori\n",
    "Q = apriori(A,min_support=0.5,use_colnames=True)"
   ]
  },
  {
   "cell_type": "code",
   "execution_count": 7,
   "id": "1d8fc07a",
   "metadata": {},
   "outputs": [
    {
     "data": {
      "text/html": [
       "<div>\n",
       "<style scoped>\n",
       "    .dataframe tbody tr th:only-of-type {\n",
       "        vertical-align: middle;\n",
       "    }\n",
       "\n",
       "    .dataframe tbody tr th {\n",
       "        vertical-align: top;\n",
       "    }\n",
       "\n",
       "    .dataframe thead th {\n",
       "        text-align: right;\n",
       "    }\n",
       "</style>\n",
       "<table border=\"1\" class=\"dataframe\">\n",
       "  <thead>\n",
       "    <tr style=\"text-align: right;\">\n",
       "      <th></th>\n",
       "      <th>support</th>\n",
       "      <th>itemsets</th>\n",
       "    </tr>\n",
       "  </thead>\n",
       "  <tbody>\n",
       "    <tr>\n",
       "      <th>0</th>\n",
       "      <td>0.6</td>\n",
       "      <td>(Dahi)</td>\n",
       "    </tr>\n",
       "    <tr>\n",
       "      <th>1</th>\n",
       "      <td>0.8</td>\n",
       "      <td>(Ghee)</td>\n",
       "    </tr>\n",
       "    <tr>\n",
       "      <th>2</th>\n",
       "      <td>0.6</td>\n",
       "      <td>(Milk)</td>\n",
       "    </tr>\n",
       "    <tr>\n",
       "      <th>3</th>\n",
       "      <td>0.6</td>\n",
       "      <td>(Onion)</td>\n",
       "    </tr>\n",
       "    <tr>\n",
       "      <th>4</th>\n",
       "      <td>1.0</td>\n",
       "      <td>(Rajma)</td>\n",
       "    </tr>\n",
       "    <tr>\n",
       "      <th>5</th>\n",
       "      <td>0.6</td>\n",
       "      <td>(Rajma, Dahi)</td>\n",
       "    </tr>\n",
       "    <tr>\n",
       "      <th>6</th>\n",
       "      <td>0.6</td>\n",
       "      <td>(Ghee, Onion)</td>\n",
       "    </tr>\n",
       "    <tr>\n",
       "      <th>7</th>\n",
       "      <td>0.8</td>\n",
       "      <td>(Rajma, Ghee)</td>\n",
       "    </tr>\n",
       "    <tr>\n",
       "      <th>8</th>\n",
       "      <td>0.6</td>\n",
       "      <td>(Rajma, Milk)</td>\n",
       "    </tr>\n",
       "    <tr>\n",
       "      <th>9</th>\n",
       "      <td>0.6</td>\n",
       "      <td>(Rajma, Onion)</td>\n",
       "    </tr>\n",
       "    <tr>\n",
       "      <th>10</th>\n",
       "      <td>0.6</td>\n",
       "      <td>(Rajma, Ghee, Onion)</td>\n",
       "    </tr>\n",
       "  </tbody>\n",
       "</table>\n",
       "</div>"
      ],
      "text/plain": [
       "    support              itemsets\n",
       "0       0.6                (Dahi)\n",
       "1       0.8                (Ghee)\n",
       "2       0.6                (Milk)\n",
       "3       0.6               (Onion)\n",
       "4       1.0               (Rajma)\n",
       "5       0.6         (Rajma, Dahi)\n",
       "6       0.6         (Ghee, Onion)\n",
       "7       0.8         (Rajma, Ghee)\n",
       "8       0.6         (Rajma, Milk)\n",
       "9       0.6        (Rajma, Onion)\n",
       "10      0.6  (Rajma, Ghee, Onion)"
      ]
     },
     "execution_count": 7,
     "metadata": {},
     "output_type": "execute_result"
    }
   ],
   "source": [
    "Q"
   ]
  },
  {
   "cell_type": "markdown",
   "id": "0d98bae9",
   "metadata": {},
   "source": [
    "# Creating a function Confidence"
   ]
  },
  {
   "cell_type": "code",
   "execution_count": 8,
   "id": "ab4faf68",
   "metadata": {},
   "outputs": [],
   "source": [
    "def confidence(A,x,y):\n",
    "    num = A[(A[x]== True) & (A[y]== True)].shape[0]\n",
    "    den = A[(A[x] == True)].shape[0]\n",
    "    conf = num/den\n",
    "    return conf"
   ]
  },
  {
   "cell_type": "code",
   "execution_count": 9,
   "id": "4138da69",
   "metadata": {},
   "outputs": [
    {
     "data": {
      "text/plain": [
       "0.8"
      ]
     },
     "execution_count": 9,
     "metadata": {},
     "output_type": "execute_result"
    }
   ],
   "source": [
    "confidence(A,\"Rajma\",\"Ghee\")"
   ]
  },
  {
   "cell_type": "markdown",
   "id": "636c0403",
   "metadata": {},
   "source": [
    "# Create a function Support"
   ]
  },
  {
   "cell_type": "code",
   "execution_count": 16,
   "id": "3395c334",
   "metadata": {},
   "outputs": [],
   "source": [
    "def supp(A,i,j):\n",
    "    num = A[(A[i] == True) & (A[j] == True)].shape[0]\n",
    "    den = A.shape[0]\n",
    "    sup = num/den\n",
    "    return sup"
   ]
  },
  {
   "cell_type": "code",
   "execution_count": 18,
   "id": "8211043c",
   "metadata": {},
   "outputs": [],
   "source": [
    "#supp(A,\"Rajma\",\"Ghee\")"
   ]
  },
  {
   "cell_type": "code",
   "execution_count": 20,
   "id": "5c41bf21",
   "metadata": {},
   "outputs": [],
   "source": [
    "rule = []\n",
    "support = []\n",
    "conf = []\n",
    "for i in A.columns:\n",
    "    for j in A.columns:\n",
    "        if(i !=j):\n",
    "            rule.append(i + \" \" + j)\n",
    "            support.append(supp(A,i,j))\n",
    "            conf.append(confidence(A,i,j))\n",
    "            "
   ]
  },
  {
   "cell_type": "code",
   "execution_count": 21,
   "id": "765ceac5",
   "metadata": {},
   "outputs": [],
   "source": [
    "T = mt.DataFrame([rule,support,conf]).T\n",
    "T.columns = [\"Rule\",\"Supp\",\"Conf\"]"
   ]
  },
  {
   "cell_type": "code",
   "execution_count": 22,
   "id": "002bdf9f",
   "metadata": {},
   "outputs": [
    {
     "data": {
      "text/html": [
       "<div>\n",
       "<style scoped>\n",
       "    .dataframe tbody tr th:only-of-type {\n",
       "        vertical-align: middle;\n",
       "    }\n",
       "\n",
       "    .dataframe tbody tr th {\n",
       "        vertical-align: top;\n",
       "    }\n",
       "\n",
       "    .dataframe thead th {\n",
       "        text-align: right;\n",
       "    }\n",
       "</style>\n",
       "<table border=\"1\" class=\"dataframe\">\n",
       "  <thead>\n",
       "    <tr style=\"text-align: right;\">\n",
       "      <th></th>\n",
       "      <th>Rule</th>\n",
       "      <th>Supp</th>\n",
       "      <th>Conf</th>\n",
       "    </tr>\n",
       "  </thead>\n",
       "  <tbody>\n",
       "    <tr>\n",
       "      <th>0</th>\n",
       "      <td>Apple Chhole</td>\n",
       "      <td>0.0</td>\n",
       "      <td>0.0</td>\n",
       "    </tr>\n",
       "    <tr>\n",
       "      <th>1</th>\n",
       "      <td>Apple Corn</td>\n",
       "      <td>0.0</td>\n",
       "      <td>0.0</td>\n",
       "    </tr>\n",
       "    <tr>\n",
       "      <th>2</th>\n",
       "      <td>Apple Dahi</td>\n",
       "      <td>0.0</td>\n",
       "      <td>0.0</td>\n",
       "    </tr>\n",
       "    <tr>\n",
       "      <th>3</th>\n",
       "      <td>Apple Dill</td>\n",
       "      <td>0.0</td>\n",
       "      <td>0.0</td>\n",
       "    </tr>\n",
       "    <tr>\n",
       "      <th>4</th>\n",
       "      <td>Apple Ghee</td>\n",
       "      <td>0.2</td>\n",
       "      <td>1.0</td>\n",
       "    </tr>\n",
       "    <tr>\n",
       "      <th>...</th>\n",
       "      <td>...</td>\n",
       "      <td>...</td>\n",
       "      <td>...</td>\n",
       "    </tr>\n",
       "    <tr>\n",
       "      <th>105</th>\n",
       "      <td>Rajma Ghee</td>\n",
       "      <td>0.8</td>\n",
       "      <td>0.8</td>\n",
       "    </tr>\n",
       "    <tr>\n",
       "      <th>106</th>\n",
       "      <td>Rajma Ice cream</td>\n",
       "      <td>0.2</td>\n",
       "      <td>0.2</td>\n",
       "    </tr>\n",
       "    <tr>\n",
       "      <th>107</th>\n",
       "      <td>Rajma Milk</td>\n",
       "      <td>0.6</td>\n",
       "      <td>0.6</td>\n",
       "    </tr>\n",
       "    <tr>\n",
       "      <th>108</th>\n",
       "      <td>Rajma Mutter</td>\n",
       "      <td>0.2</td>\n",
       "      <td>0.2</td>\n",
       "    </tr>\n",
       "    <tr>\n",
       "      <th>109</th>\n",
       "      <td>Rajma Onion</td>\n",
       "      <td>0.6</td>\n",
       "      <td>0.6</td>\n",
       "    </tr>\n",
       "  </tbody>\n",
       "</table>\n",
       "<p>110 rows × 3 columns</p>\n",
       "</div>"
      ],
      "text/plain": [
       "                Rule Supp Conf\n",
       "0       Apple Chhole  0.0  0.0\n",
       "1         Apple Corn  0.0  0.0\n",
       "2         Apple Dahi  0.0  0.0\n",
       "3         Apple Dill  0.0  0.0\n",
       "4         Apple Ghee  0.2  1.0\n",
       "..               ...  ...  ...\n",
       "105       Rajma Ghee  0.8  0.8\n",
       "106  Rajma Ice cream  0.2  0.2\n",
       "107       Rajma Milk  0.6  0.6\n",
       "108     Rajma Mutter  0.2  0.2\n",
       "109      Rajma Onion  0.6  0.6\n",
       "\n",
       "[110 rows x 3 columns]"
      ]
     },
     "execution_count": 22,
     "metadata": {},
     "output_type": "execute_result"
    }
   ],
   "source": [
    "T"
   ]
  },
  {
   "cell_type": "markdown",
   "id": "0f0f127a",
   "metadata": {},
   "source": [
    "# Related data recommendation"
   ]
  },
  {
   "cell_type": "code",
   "execution_count": 23,
   "id": "7eda5418",
   "metadata": {},
   "outputs": [
    {
     "data": {
      "text/html": [
       "<div>\n",
       "<style scoped>\n",
       "    .dataframe tbody tr th:only-of-type {\n",
       "        vertical-align: middle;\n",
       "    }\n",
       "\n",
       "    .dataframe tbody tr th {\n",
       "        vertical-align: top;\n",
       "    }\n",
       "\n",
       "    .dataframe thead th {\n",
       "        text-align: right;\n",
       "    }\n",
       "</style>\n",
       "<table border=\"1\" class=\"dataframe\">\n",
       "  <thead>\n",
       "    <tr style=\"text-align: right;\">\n",
       "      <th></th>\n",
       "      <th>Rule</th>\n",
       "      <th>Supp</th>\n",
       "      <th>Conf</th>\n",
       "    </tr>\n",
       "  </thead>\n",
       "  <tbody>\n",
       "    <tr>\n",
       "      <th>39</th>\n",
       "      <td>Dahi Rajma</td>\n",
       "      <td>0.6</td>\n",
       "      <td>1.0</td>\n",
       "    </tr>\n",
       "    <tr>\n",
       "      <th>58</th>\n",
       "      <td>Ghee Onion</td>\n",
       "      <td>0.6</td>\n",
       "      <td>0.75</td>\n",
       "    </tr>\n",
       "    <tr>\n",
       "      <th>59</th>\n",
       "      <td>Ghee Rajma</td>\n",
       "      <td>0.8</td>\n",
       "      <td>1.0</td>\n",
       "    </tr>\n",
       "    <tr>\n",
       "      <th>79</th>\n",
       "      <td>Milk Rajma</td>\n",
       "      <td>0.6</td>\n",
       "      <td>1.0</td>\n",
       "    </tr>\n",
       "    <tr>\n",
       "      <th>95</th>\n",
       "      <td>Onion Ghee</td>\n",
       "      <td>0.6</td>\n",
       "      <td>1.0</td>\n",
       "    </tr>\n",
       "    <tr>\n",
       "      <th>99</th>\n",
       "      <td>Onion Rajma</td>\n",
       "      <td>0.6</td>\n",
       "      <td>1.0</td>\n",
       "    </tr>\n",
       "    <tr>\n",
       "      <th>103</th>\n",
       "      <td>Rajma Dahi</td>\n",
       "      <td>0.6</td>\n",
       "      <td>0.6</td>\n",
       "    </tr>\n",
       "    <tr>\n",
       "      <th>105</th>\n",
       "      <td>Rajma Ghee</td>\n",
       "      <td>0.8</td>\n",
       "      <td>0.8</td>\n",
       "    </tr>\n",
       "    <tr>\n",
       "      <th>107</th>\n",
       "      <td>Rajma Milk</td>\n",
       "      <td>0.6</td>\n",
       "      <td>0.6</td>\n",
       "    </tr>\n",
       "    <tr>\n",
       "      <th>109</th>\n",
       "      <td>Rajma Onion</td>\n",
       "      <td>0.6</td>\n",
       "      <td>0.6</td>\n",
       "    </tr>\n",
       "  </tbody>\n",
       "</table>\n",
       "</div>"
      ],
      "text/plain": [
       "            Rule Supp  Conf\n",
       "39    Dahi Rajma  0.6   1.0\n",
       "58    Ghee Onion  0.6  0.75\n",
       "59    Ghee Rajma  0.8   1.0\n",
       "79    Milk Rajma  0.6   1.0\n",
       "95    Onion Ghee  0.6   1.0\n",
       "99   Onion Rajma  0.6   1.0\n",
       "103   Rajma Dahi  0.6   0.6\n",
       "105   Rajma Ghee  0.8   0.8\n",
       "107   Rajma Milk  0.6   0.6\n",
       "109  Rajma Onion  0.6   0.6"
      ]
     },
     "execution_count": 23,
     "metadata": {},
     "output_type": "execute_result"
    }
   ],
   "source": [
    "T[(T.Supp > 0.4) & (T.Conf > 0.1)]"
   ]
  },
  {
   "cell_type": "code",
   "execution_count": null,
   "id": "e2b81173",
   "metadata": {},
   "outputs": [],
   "source": []
  },
  {
   "cell_type": "code",
   "execution_count": null,
   "id": "e9e185dc",
   "metadata": {},
   "outputs": [],
   "source": []
  }
 ],
 "metadata": {
  "kernelspec": {
   "display_name": "Python 3",
   "language": "python",
   "name": "python3"
  },
  "language_info": {
   "codemirror_mode": {
    "name": "ipython",
    "version": 3
   },
   "file_extension": ".py",
   "mimetype": "text/x-python",
   "name": "python",
   "nbconvert_exporter": "python",
   "pygments_lexer": "ipython3",
   "version": "3.8.8"
  }
 },
 "nbformat": 4,
 "nbformat_minor": 5
}
